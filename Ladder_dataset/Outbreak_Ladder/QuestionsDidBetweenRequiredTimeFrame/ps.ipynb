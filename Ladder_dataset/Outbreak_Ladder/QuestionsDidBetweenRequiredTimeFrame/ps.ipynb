{
 "cells": [
  {
   "cell_type": "code",
   "execution_count": 1,
   "metadata": {},
   "outputs": [
    {
     "ename": "JSONDecodeError",
     "evalue": "Expecting value: line 1 column 1 (char 0)",
     "output_type": "error",
     "traceback": [
      "\u001b[0;31m---------------------------------------------------------------------------\u001b[0m",
      "\u001b[0;31mJSONDecodeError\u001b[0m                           Traceback (most recent call last)",
      "\u001b[1;32m/home/outbreakkp/Desktop/HacktoberFest/cpefolder/ps.ipynb Cell 1\u001b[0m line \u001b[0;36m3\n\u001b[1;32m     <a href='vscode-notebook-cell:/home/outbreakkp/Desktop/HacktoberFest/cpefolder/ps.ipynb#W0sZmlsZQ%3D%3D?line=29'>30</a>\u001b[0m \u001b[39m# Example usage:\u001b[39;00m\n\u001b[1;32m     <a href='vscode-notebook-cell:/home/outbreakkp/Desktop/HacktoberFest/cpefolder/ps.ipynb#W0sZmlsZQ%3D%3D?line=31'>32</a>\u001b[0m user_handle \u001b[39m=\u001b[39m \u001b[39m\"\u001b[39m\u001b[39magrim07\u001b[39m\u001b[39m\"\u001b[39m\n\u001b[0;32m---> <a href='vscode-notebook-cell:/home/outbreakkp/Desktop/HacktoberFest/cpefolder/ps.ipynb#W0sZmlsZQ%3D%3D?line=32'>33</a>\u001b[0m solved_problems \u001b[39m=\u001b[39m get_solved_problems(user_handle)\n\u001b[1;32m     <a href='vscode-notebook-cell:/home/outbreakkp/Desktop/HacktoberFest/cpefolder/ps.ipynb#W0sZmlsZQ%3D%3D?line=34'>35</a>\u001b[0m \u001b[39mprint\u001b[39m(solved_problems)\n",
      "\u001b[1;32m/home/outbreakkp/Desktop/HacktoberFest/cpefolder/ps.ipynb Cell 1\u001b[0m line \u001b[0;36m1\n\u001b[1;32m     <a href='vscode-notebook-cell:/home/outbreakkp/Desktop/HacktoberFest/cpefolder/ps.ipynb#W0sZmlsZQ%3D%3D?line=14'>15</a>\u001b[0m response \u001b[39m=\u001b[39m requests\u001b[39m.\u001b[39mget(\n\u001b[1;32m     <a href='vscode-notebook-cell:/home/outbreakkp/Desktop/HacktoberFest/cpefolder/ps.ipynb#W0sZmlsZQ%3D%3D?line=15'>16</a>\u001b[0m     \u001b[39mf\u001b[39m\u001b[39m\"\u001b[39m\u001b[39mhttps://codeforces.com/api/user.status?handle=\u001b[39m\u001b[39m{\u001b[39;00muser_handle\u001b[39m}\u001b[39;00m\u001b[39m\"\u001b[39m)\n\u001b[1;32m     <a href='vscode-notebook-cell:/home/outbreakkp/Desktop/HacktoberFest/cpefolder/ps.ipynb#W0sZmlsZQ%3D%3D?line=17'>18</a>\u001b[0m \u001b[39m# Parse the JSON response.\u001b[39;00m\n\u001b[0;32m---> <a href='vscode-notebook-cell:/home/outbreakkp/Desktop/HacktoberFest/cpefolder/ps.ipynb#W0sZmlsZQ%3D%3D?line=18'>19</a>\u001b[0m data \u001b[39m=\u001b[39m json\u001b[39m.\u001b[39;49mloads(response\u001b[39m.\u001b[39;49mcontent)\n\u001b[1;32m     <a href='vscode-notebook-cell:/home/outbreakkp/Desktop/HacktoberFest/cpefolder/ps.ipynb#W0sZmlsZQ%3D%3D?line=20'>21</a>\u001b[0m \u001b[39m# Get the list of solved problems.\u001b[39;00m\n\u001b[1;32m     <a href='vscode-notebook-cell:/home/outbreakkp/Desktop/HacktoberFest/cpefolder/ps.ipynb#W0sZmlsZQ%3D%3D?line=21'>22</a>\u001b[0m solved_problems \u001b[39m=\u001b[39m \u001b[39mset\u001b[39m()\n",
      "File \u001b[0;32m/usr/lib/python3.10/json/__init__.py:346\u001b[0m, in \u001b[0;36mloads\u001b[0;34m(s, cls, object_hook, parse_float, parse_int, parse_constant, object_pairs_hook, **kw)\u001b[0m\n\u001b[1;32m    341\u001b[0m     s \u001b[39m=\u001b[39m s\u001b[39m.\u001b[39mdecode(detect_encoding(s), \u001b[39m'\u001b[39m\u001b[39msurrogatepass\u001b[39m\u001b[39m'\u001b[39m)\n\u001b[1;32m    343\u001b[0m \u001b[39mif\u001b[39;00m (\u001b[39mcls\u001b[39m \u001b[39mis\u001b[39;00m \u001b[39mNone\u001b[39;00m \u001b[39mand\u001b[39;00m object_hook \u001b[39mis\u001b[39;00m \u001b[39mNone\u001b[39;00m \u001b[39mand\u001b[39;00m\n\u001b[1;32m    344\u001b[0m         parse_int \u001b[39mis\u001b[39;00m \u001b[39mNone\u001b[39;00m \u001b[39mand\u001b[39;00m parse_float \u001b[39mis\u001b[39;00m \u001b[39mNone\u001b[39;00m \u001b[39mand\u001b[39;00m\n\u001b[1;32m    345\u001b[0m         parse_constant \u001b[39mis\u001b[39;00m \u001b[39mNone\u001b[39;00m \u001b[39mand\u001b[39;00m object_pairs_hook \u001b[39mis\u001b[39;00m \u001b[39mNone\u001b[39;00m \u001b[39mand\u001b[39;00m \u001b[39mnot\u001b[39;00m kw):\n\u001b[0;32m--> 346\u001b[0m     \u001b[39mreturn\u001b[39;00m _default_decoder\u001b[39m.\u001b[39;49mdecode(s)\n\u001b[1;32m    347\u001b[0m \u001b[39mif\u001b[39;00m \u001b[39mcls\u001b[39m \u001b[39mis\u001b[39;00m \u001b[39mNone\u001b[39;00m:\n\u001b[1;32m    348\u001b[0m     \u001b[39mcls\u001b[39m \u001b[39m=\u001b[39m JSONDecoder\n",
      "File \u001b[0;32m/usr/lib/python3.10/json/decoder.py:337\u001b[0m, in \u001b[0;36mJSONDecoder.decode\u001b[0;34m(self, s, _w)\u001b[0m\n\u001b[1;32m    332\u001b[0m \u001b[39mdef\u001b[39;00m \u001b[39mdecode\u001b[39m(\u001b[39mself\u001b[39m, s, _w\u001b[39m=\u001b[39mWHITESPACE\u001b[39m.\u001b[39mmatch):\n\u001b[1;32m    333\u001b[0m \u001b[39m    \u001b[39m\u001b[39m\"\"\"Return the Python representation of ``s`` (a ``str`` instance\u001b[39;00m\n\u001b[1;32m    334\u001b[0m \u001b[39m    containing a JSON document).\u001b[39;00m\n\u001b[1;32m    335\u001b[0m \n\u001b[1;32m    336\u001b[0m \u001b[39m    \"\"\"\u001b[39;00m\n\u001b[0;32m--> 337\u001b[0m     obj, end \u001b[39m=\u001b[39m \u001b[39mself\u001b[39;49m\u001b[39m.\u001b[39;49mraw_decode(s, idx\u001b[39m=\u001b[39;49m_w(s, \u001b[39m0\u001b[39;49m)\u001b[39m.\u001b[39;49mend())\n\u001b[1;32m    338\u001b[0m     end \u001b[39m=\u001b[39m _w(s, end)\u001b[39m.\u001b[39mend()\n\u001b[1;32m    339\u001b[0m     \u001b[39mif\u001b[39;00m end \u001b[39m!=\u001b[39m \u001b[39mlen\u001b[39m(s):\n",
      "File \u001b[0;32m/usr/lib/python3.10/json/decoder.py:355\u001b[0m, in \u001b[0;36mJSONDecoder.raw_decode\u001b[0;34m(self, s, idx)\u001b[0m\n\u001b[1;32m    353\u001b[0m     obj, end \u001b[39m=\u001b[39m \u001b[39mself\u001b[39m\u001b[39m.\u001b[39mscan_once(s, idx)\n\u001b[1;32m    354\u001b[0m \u001b[39mexcept\u001b[39;00m \u001b[39mStopIteration\u001b[39;00m \u001b[39mas\u001b[39;00m err:\n\u001b[0;32m--> 355\u001b[0m     \u001b[39mraise\u001b[39;00m JSONDecodeError(\u001b[39m\"\u001b[39m\u001b[39mExpecting value\u001b[39m\u001b[39m\"\u001b[39m, s, err\u001b[39m.\u001b[39mvalue) \u001b[39mfrom\u001b[39;00m \u001b[39mNone\u001b[39;00m\n\u001b[1;32m    356\u001b[0m \u001b[39mreturn\u001b[39;00m obj, end\n",
      "\u001b[0;31mJSONDecodeError\u001b[0m: Expecting value: line 1 column 1 (char 0)"
     ]
    }
   ],
   "source": [
    "import requests\n",
    "import json\n",
    "\n",
    "def get_solved_problems(user_handle):\n",
    "  \"\"\"Gets the set of problems done by a Codeforces user.\n",
    "\n",
    "  Args:\n",
    "    user_handle: The handle of the user.\n",
    "\n",
    "  Returns:\n",
    "    A set of problem IDs.\n",
    "  \"\"\"\n",
    "\n",
    "  # Make a request to the Codeforces API to get the user's solved list.\n",
    "  response = requests.get(\n",
    "      f\"https://codeforces.com/api/user.status?handle={user_handle}\")\n",
    "\n",
    "  # Parse the JSON response.\n",
    "  data = json.loads(response.content)\n",
    "\n",
    "  # Get the list of solved problems.\n",
    "  solved_problems = set()\n",
    "  for submission in data[\"result\"]:\n",
    "    if submission[\"verdict\"] == \"OK\":\n",
    "      solved_problems.add(submission[\"problem\"][\"contestId\"])\n",
    "      solved_problems.add(submission[\"problem\"][\"index\"])\n",
    "\n",
    "  return solved_problems\n",
    "\n",
    "# Example usage:\n",
    "\n",
    "user_handle = \"agrim07\"\n",
    "solved_problems = get_solved_problems(user_handle)\n",
    "\n",
    "print(solved_problems)"
   ]
  }
 ],
 "metadata": {
  "kernelspec": {
   "display_name": "Python 3",
   "language": "python",
   "name": "python3"
  },
  "language_info": {
   "codemirror_mode": {
    "name": "ipython",
    "version": 3
   },
   "file_extension": ".py",
   "mimetype": "text/x-python",
   "name": "python",
   "nbconvert_exporter": "python",
   "pygments_lexer": "ipython3",
   "version": "3.10.12"
  }
 },
 "nbformat": 4,
 "nbformat_minor": 2
}
